{
 "cells": [
  {
   "cell_type": "markdown",
   "id": "0591d398",
   "metadata": {},
   "source": [
    "# Template: Title\n"
   ]
  },
  {
   "cell_type": "markdown",
   "id": "379c9b98",
   "metadata": {},
   "source": [
    "## Intro\n",
    "Add brief introduction here.\n",
    "\n",
    "## Plain languate introduction:\n"
   ]
  },
  {
   "cell_type": "markdown",
   "id": "06ef48ac",
   "metadata": {},
   "source": [
    "## Key EO datasets & platforms\n",
    "\n",
    "### Dataset 1\n",
    "\n",
    "### Dataset 2 "
   ]
  },
  {
   "cell_type": "markdown",
   "id": "7988278e",
   "metadata": {},
   "source": [
    "## How to access and process the data\n",
    "\n",
    "### Required dependencies:\n",
    "\n",
    "* list dependencies and what they're for\n",
    "\n",
    "These can be install into a conda enviroment with the below commands in the terminal or command prompt:\n",
    "\n",
    "```bash\n",
    "mamba create --name polar_eo_environment python=3.11 ADD DEPENDENCIES HERE\n",
    "```\n",
    "followed by:\n",
    "```bash\n",
    "mamba activate polar_eo_environment\n",
    "```\n",
    "\n"
   ]
  },
  {
   "cell_type": "markdown",
   "id": "c5639af3",
   "metadata": {},
   "source": [
    "### Import libraries"
   ]
  },
  {
   "cell_type": "markdown",
   "id": "0f8b5e09",
   "metadata": {},
   "source": [
    "### Add remainder of your analysis here"
   ]
  },
  {
   "cell_type": "markdown",
   "id": "71d92686",
   "metadata": {},
   "source": [
    "## Common challenges and solutions"
   ]
  },
  {
   "cell_type": "markdown",
   "id": "ae199716",
   "metadata": {},
   "source": [
    "## Case study / example application"
   ]
  },
  {
   "cell_type": "markdown",
   "id": "4f080fdd",
   "metadata": {},
   "source": [
    "## Additional resources & references\n",
    "\n",
    "### Relevent publications:"
   ]
  },
  {
   "cell_type": "markdown",
   "id": "0019d160",
   "metadata": {},
   "source": []
  }
 ],
 "metadata": {
  "language_info": {
   "name": "python"
  }
 },
 "nbformat": 4,
 "nbformat_minor": 5
}
